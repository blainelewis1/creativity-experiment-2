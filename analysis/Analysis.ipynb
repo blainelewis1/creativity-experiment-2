{
 "cells": [
  {
   "cell_type": "code",
   "execution_count": 2,
   "metadata": {},
   "outputs": [],
   "source": [
    "import pandas as pd\n",
    "import seaborn as sns\n",
    "import matplotlib.pyplot as plt\n",
    "import json\n",
    "from IPython.display import display, Markdown\n",
    "%matplotlib inline  \n"
   ]
  },
  {
   "cell_type": "code",
   "execution_count": 3,
   "metadata": {},
   "outputs": [],
   "source": []
  },
  {
   "cell_type": "code",
   "execution_count": 25,
   "metadata": {},
   "outputs": [],
   "source": [
    "df = pd.read_csv('./pilot.csv')\n",
    "df['logs'] = df['logs'].map(lambda x: json.loads(x) if not pd.isnull(x) else pd.NA)\n",
    "\n",
    "df.loc[df['participant_id'].isna(),'participant_id'] = 'test'\n",
    "df['__INDEX__'] = df['__INDEX__'].map(json.loads)\n",
    "\n",
    "df.loc[df['participant_id'] == 'arnav','participant_id'] = 1\n",
    "df.loc[df['participant_id'] == 'karthik','participant_id'] = 2\n",
    "df.loc[df['participant_id'] == 'majeed','participant_id'] = 3\n",
    "\n",
    "def find_start(x):\n",
    "    if type(x) != list:\n",
    "        return pd.NA\n",
    "    \n",
    "    for log in x:\n",
    "        if log['type'] == 'START':\n",
    "            return log['timestamp']\n",
    "    \n",
    "    return pd.NA\n",
    "\n",
    "def find_end(x):\n",
    "    if type(x) != list:\n",
    "        return pd.NA\n",
    "    for log in x:\n",
    "        if log['type'] == 'END':\n",
    "            return log['timestamp']\n",
    "    \n",
    "    return pd.NA\n",
    "df['start'] = df['logs'].map(find_start)\n",
    "df['end'] = df['logs'].map(find_end)"
   ]
  },
  {
   "cell_type": "code",
   "execution_count": 5,
   "metadata": {},
   "outputs": [
    {
     "data": {
      "text/html": [
       "<div>\n",
       "<style scoped>\n",
       "    .dataframe tbody tr th:only-of-type {\n",
       "        vertical-align: middle;\n",
       "    }\n",
       "\n",
       "    .dataframe tbody tr th {\n",
       "        vertical-align: top;\n",
       "    }\n",
       "\n",
       "    .dataframe thead th {\n",
       "        text-align: right;\n",
       "    }\n",
       "</style>\n",
       "<table border=\"1\" class=\"dataframe\">\n",
       "  <thead>\n",
       "    <tr style=\"text-align: right;\">\n",
       "      <th></th>\n",
       "      <th>participant_id</th>\n",
       "      <th>metadata</th>\n",
       "      <th>tasks</th>\n",
       "      <th>DevTools</th>\n",
       "      <th>__INDEX__</th>\n",
       "      <th>participant_number</th>\n",
       "      <th>task</th>\n",
       "      <th>content</th>\n",
       "      <th>logs</th>\n",
       "      <th>menu</th>\n",
       "      <th>items</th>\n",
       "      <th>command</th>\n",
       "      <th>question</th>\n",
       "      <th>object</th>\n",
       "      <th>timeLimit</th>\n",
       "      <th>questions</th>\n",
       "      <th>filename</th>\n",
       "      <th>experimenter</th>\n",
       "    </tr>\n",
       "  </thead>\n",
       "  <tbody>\n",
       "    <tr>\n",
       "      <th>0</th>\n",
       "      <td>1</td>\n",
       "      <td>{\"git_commit\":\"0010ac92f48025bd22d773a1f482af6...</td>\n",
       "      <td>[\"ProgressBar\",\"DevTools\"]</td>\n",
       "      <td>{\"showInProduction\":false}</td>\n",
       "      <td>[0]</td>\n",
       "      <td>0</td>\n",
       "      <td>InformationScreen</td>\n",
       "      <td>\\nIn order to complete this experiment you wil...</td>\n",
       "      <td>[{'type': 'START', 'timestamp': 1675110926061}...</td>\n",
       "      <td>NaN</td>\n",
       "      <td>NaN</td>\n",
       "      <td>NaN</td>\n",
       "      <td>NaN</td>\n",
       "      <td>NaN</td>\n",
       "      <td>NaN</td>\n",
       "      <td>NaN</td>\n",
       "      <td>NaN</td>\n",
       "      <td>NaN</td>\n",
       "    </tr>\n",
       "    <tr>\n",
       "      <th>1</th>\n",
       "      <td>1</td>\n",
       "      <td>{\"git_commit\":\"0010ac92f48025bd22d773a1f482af6...</td>\n",
       "      <td>[\"ProgressBar\",\"DevTools\"]</td>\n",
       "      <td>{\"showInProduction\":false}</td>\n",
       "      <td>[1, 0]</td>\n",
       "      <td>0</td>\n",
       "      <td>Tutorial</td>\n",
       "      <td>NaN</td>\n",
       "      <td>[{'type': 'START', 'timestamp': 1675110926938}...</td>\n",
       "      <td>KeyboardShortcutsWithCheatsheet</td>\n",
       "      <td>[{\"icon\":{\"displayName\":\"Undo\"},\"label\":\"Undo\"...</td>\n",
       "      <td>NaN</td>\n",
       "      <td>NaN</td>\n",
       "      <td>NaN</td>\n",
       "      <td>NaN</td>\n",
       "      <td>NaN</td>\n",
       "      <td>NaN</td>\n",
       "      <td>NaN</td>\n",
       "    </tr>\n",
       "    <tr>\n",
       "      <th>2</th>\n",
       "      <td>1</td>\n",
       "      <td>{\"git_commit\":\"0010ac92f48025bd22d773a1f482af6...</td>\n",
       "      <td>[\"ProgressBar\",\"DevTools\"]</td>\n",
       "      <td>{\"showInProduction\":false}</td>\n",
       "      <td>[1, 1, 0]</td>\n",
       "      <td>0</td>\n",
       "      <td>CommandSelection</td>\n",
       "      <td>NaN</td>\n",
       "      <td>[{'type': 'START', 'timestamp': 1675110966373}...</td>\n",
       "      <td>KeyboardShortcutsWithCheatsheet</td>\n",
       "      <td>[{\"icon\":{\"displayName\":\"Undo\"},\"label\":\"Undo\"...</td>\n",
       "      <td>Italic</td>\n",
       "      <td>NaN</td>\n",
       "      <td>NaN</td>\n",
       "      <td>NaN</td>\n",
       "      <td>NaN</td>\n",
       "      <td>NaN</td>\n",
       "      <td>NaN</td>\n",
       "    </tr>\n",
       "    <tr>\n",
       "      <th>3</th>\n",
       "      <td>1</td>\n",
       "      <td>{\"git_commit\":\"0010ac92f48025bd22d773a1f482af6...</td>\n",
       "      <td>[\"ProgressBar\",\"DevTools\"]</td>\n",
       "      <td>{\"showInProduction\":false}</td>\n",
       "      <td>[1, 1, 1]</td>\n",
       "      <td>0</td>\n",
       "      <td>CommandSelection</td>\n",
       "      <td>NaN</td>\n",
       "      <td>[{'type': 'START', 'timestamp': 1675110970603}...</td>\n",
       "      <td>KeyboardShortcutsWithCheatsheet</td>\n",
       "      <td>[{\"icon\":{\"displayName\":\"Undo\"},\"label\":\"Undo\"...</td>\n",
       "      <td>Print</td>\n",
       "      <td>NaN</td>\n",
       "      <td>NaN</td>\n",
       "      <td>NaN</td>\n",
       "      <td>NaN</td>\n",
       "      <td>NaN</td>\n",
       "      <td>NaN</td>\n",
       "    </tr>\n",
       "    <tr>\n",
       "      <th>4</th>\n",
       "      <td>1</td>\n",
       "      <td>{\"git_commit\":\"0010ac92f48025bd22d773a1f482af6...</td>\n",
       "      <td>[\"ProgressBar\",\"DevTools\"]</td>\n",
       "      <td>{\"showInProduction\":false}</td>\n",
       "      <td>[1, 1, 2]</td>\n",
       "      <td>0</td>\n",
       "      <td>CommandSelection</td>\n",
       "      <td>NaN</td>\n",
       "      <td>[{'type': 'START', 'timestamp': 1675110975532}...</td>\n",
       "      <td>KeyboardShortcutsWithCheatsheet</td>\n",
       "      <td>[{\"icon\":{\"displayName\":\"Undo\"},\"label\":\"Undo\"...</td>\n",
       "      <td>Bulleted list</td>\n",
       "      <td>NaN</td>\n",
       "      <td>NaN</td>\n",
       "      <td>NaN</td>\n",
       "      <td>NaN</td>\n",
       "      <td>NaN</td>\n",
       "      <td>NaN</td>\n",
       "    </tr>\n",
       "    <tr>\n",
       "      <th>...</th>\n",
       "      <td>...</td>\n",
       "      <td>...</td>\n",
       "      <td>...</td>\n",
       "      <td>...</td>\n",
       "      <td>...</td>\n",
       "      <td>...</td>\n",
       "      <td>...</td>\n",
       "      <td>...</td>\n",
       "      <td>...</td>\n",
       "      <td>...</td>\n",
       "      <td>...</td>\n",
       "      <td>...</td>\n",
       "      <td>...</td>\n",
       "      <td>...</td>\n",
       "      <td>...</td>\n",
       "      <td>...</td>\n",
       "      <td>...</td>\n",
       "      <td>...</td>\n",
       "    </tr>\n",
       "    <tr>\n",
       "      <th>310</th>\n",
       "      <td>3</td>\n",
       "      <td>{\"git_commit\":\"0010ac92f48025bd22d773a1f482af6...</td>\n",
       "      <td>[\"ProgressBar\",\"DevTools\"]</td>\n",
       "      <td>{\"showInProduction\":false}</td>\n",
       "      <td>[3, 3]</td>\n",
       "      <td>2</td>\n",
       "      <td>DivergentTest</td>\n",
       "      <td>NaN</td>\n",
       "      <td>[{'type': 'START', 'timestamp': 1675123255389}...</td>\n",
       "      <td>MarkingMenu</td>\n",
       "      <td>[{\"icon\":{\"displayName\":\"Undo\"},\"label\":\"Undo\"...</td>\n",
       "      <td>NaN</td>\n",
       "      <td>Write down all of the original and creative\\n ...</td>\n",
       "      <td>shoe</td>\n",
       "      <td>180000.0</td>\n",
       "      <td>NaN</td>\n",
       "      <td>NaN</td>\n",
       "      <td>NaN</td>\n",
       "    </tr>\n",
       "    <tr>\n",
       "      <th>311</th>\n",
       "      <td>3</td>\n",
       "      <td>{\"git_commit\":\"0010ac92f48025bd22d773a1f482af6...</td>\n",
       "      <td>[\"ProgressBar\",\"DevTools\"]</td>\n",
       "      <td>{\"showInProduction\":false}</td>\n",
       "      <td>[3, 4]</td>\n",
       "      <td>2</td>\n",
       "      <td>Questionnaire</td>\n",
       "      <td>NaN</td>\n",
       "      <td>[{'type': 'START', 'timestamp': 1675123441446}...</td>\n",
       "      <td>MarkingMenu</td>\n",
       "      <td>[{\"icon\":{\"displayName\":\"Undo\"},\"label\":\"Undo\"...</td>\n",
       "      <td>NaN</td>\n",
       "      <td>NaN</td>\n",
       "      <td>NaN</td>\n",
       "      <td>NaN</td>\n",
       "      <td>[\"I felt creative while I was selecting comman...</td>\n",
       "      <td>NaN</td>\n",
       "      <td>NaN</td>\n",
       "    </tr>\n",
       "    <tr>\n",
       "      <th>312</th>\n",
       "      <td>3</td>\n",
       "      <td>{\"git_commit\":\"0010ac92f48025bd22d773a1f482af6...</td>\n",
       "      <td>[\"ProgressBar\",\"DevTools\"]</td>\n",
       "      <td>{\"showInProduction\":false}</td>\n",
       "      <td>[3, 5]</td>\n",
       "      <td>2</td>\n",
       "      <td>NasaTlx</td>\n",
       "      <td>NaN</td>\n",
       "      <td>[{'type': 'START', 'timestamp': 1675123449064}...</td>\n",
       "      <td>MarkingMenu</td>\n",
       "      <td>[{\"icon\":{\"displayName\":\"Undo\"},\"label\":\"Undo\"...</td>\n",
       "      <td>NaN</td>\n",
       "      <td>NaN</td>\n",
       "      <td>NaN</td>\n",
       "      <td>NaN</td>\n",
       "      <td>NaN</td>\n",
       "      <td>NaN</td>\n",
       "      <td>NaN</td>\n",
       "    </tr>\n",
       "    <tr>\n",
       "      <th>313</th>\n",
       "      <td>3</td>\n",
       "      <td>{\"git_commit\":\"0010ac92f48025bd22d773a1f482af6...</td>\n",
       "      <td>[\"ProgressBar\",\"DevTools\"]</td>\n",
       "      <td>{\"showInProduction\":false}</td>\n",
       "      <td>[4]</td>\n",
       "      <td>2</td>\n",
       "      <td>S3Upload</td>\n",
       "      <td>NaN</td>\n",
       "      <td>[{'type': 'START', 'timestamp': 1675123469792}]</td>\n",
       "      <td>NaN</td>\n",
       "      <td>NaN</td>\n",
       "      <td>NaN</td>\n",
       "      <td>NaN</td>\n",
       "      <td>NaN</td>\n",
       "      <td>NaN</td>\n",
       "      <td>NaN</td>\n",
       "      <td>majeed.json</td>\n",
       "      <td>blaine@dgp.toronto.edu</td>\n",
       "    </tr>\n",
       "    <tr>\n",
       "      <th>314</th>\n",
       "      <td>3</td>\n",
       "      <td>{\"git_commit\":\"0010ac92f48025bd22d773a1f482af6...</td>\n",
       "      <td>[\"ProgressBar\",\"DevTools\"]</td>\n",
       "      <td>{\"showInProduction\":false}</td>\n",
       "      <td>[5]</td>\n",
       "      <td>2</td>\n",
       "      <td>InformationScreen</td>\n",
       "      <td>\\nYour data has successfully been uploaded. Th...</td>\n",
       "      <td>&lt;NA&gt;</td>\n",
       "      <td>NaN</td>\n",
       "      <td>NaN</td>\n",
       "      <td>NaN</td>\n",
       "      <td>NaN</td>\n",
       "      <td>NaN</td>\n",
       "      <td>NaN</td>\n",
       "      <td>NaN</td>\n",
       "      <td>NaN</td>\n",
       "      <td>NaN</td>\n",
       "    </tr>\n",
       "  </tbody>\n",
       "</table>\n",
       "<p>315 rows × 18 columns</p>\n",
       "</div>"
      ],
      "text/plain": [
       "    participant_id                                           metadata  \\\n",
       "0                1  {\"git_commit\":\"0010ac92f48025bd22d773a1f482af6...   \n",
       "1                1  {\"git_commit\":\"0010ac92f48025bd22d773a1f482af6...   \n",
       "2                1  {\"git_commit\":\"0010ac92f48025bd22d773a1f482af6...   \n",
       "3                1  {\"git_commit\":\"0010ac92f48025bd22d773a1f482af6...   \n",
       "4                1  {\"git_commit\":\"0010ac92f48025bd22d773a1f482af6...   \n",
       "..             ...                                                ...   \n",
       "310              3  {\"git_commit\":\"0010ac92f48025bd22d773a1f482af6...   \n",
       "311              3  {\"git_commit\":\"0010ac92f48025bd22d773a1f482af6...   \n",
       "312              3  {\"git_commit\":\"0010ac92f48025bd22d773a1f482af6...   \n",
       "313              3  {\"git_commit\":\"0010ac92f48025bd22d773a1f482af6...   \n",
       "314              3  {\"git_commit\":\"0010ac92f48025bd22d773a1f482af6...   \n",
       "\n",
       "                          tasks                    DevTools  __INDEX__  \\\n",
       "0    [\"ProgressBar\",\"DevTools\"]  {\"showInProduction\":false}        [0]   \n",
       "1    [\"ProgressBar\",\"DevTools\"]  {\"showInProduction\":false}     [1, 0]   \n",
       "2    [\"ProgressBar\",\"DevTools\"]  {\"showInProduction\":false}  [1, 1, 0]   \n",
       "3    [\"ProgressBar\",\"DevTools\"]  {\"showInProduction\":false}  [1, 1, 1]   \n",
       "4    [\"ProgressBar\",\"DevTools\"]  {\"showInProduction\":false}  [1, 1, 2]   \n",
       "..                          ...                         ...        ...   \n",
       "310  [\"ProgressBar\",\"DevTools\"]  {\"showInProduction\":false}     [3, 3]   \n",
       "311  [\"ProgressBar\",\"DevTools\"]  {\"showInProduction\":false}     [3, 4]   \n",
       "312  [\"ProgressBar\",\"DevTools\"]  {\"showInProduction\":false}     [3, 5]   \n",
       "313  [\"ProgressBar\",\"DevTools\"]  {\"showInProduction\":false}        [4]   \n",
       "314  [\"ProgressBar\",\"DevTools\"]  {\"showInProduction\":false}        [5]   \n",
       "\n",
       "     participant_number               task  \\\n",
       "0                     0  InformationScreen   \n",
       "1                     0           Tutorial   \n",
       "2                     0   CommandSelection   \n",
       "3                     0   CommandSelection   \n",
       "4                     0   CommandSelection   \n",
       "..                  ...                ...   \n",
       "310                   2      DivergentTest   \n",
       "311                   2      Questionnaire   \n",
       "312                   2            NasaTlx   \n",
       "313                   2           S3Upload   \n",
       "314                   2  InformationScreen   \n",
       "\n",
       "                                               content  \\\n",
       "0    \\nIn order to complete this experiment you wil...   \n",
       "1                                                  NaN   \n",
       "2                                                  NaN   \n",
       "3                                                  NaN   \n",
       "4                                                  NaN   \n",
       "..                                                 ...   \n",
       "310                                                NaN   \n",
       "311                                                NaN   \n",
       "312                                                NaN   \n",
       "313                                                NaN   \n",
       "314  \\nYour data has successfully been uploaded. Th...   \n",
       "\n",
       "                                                  logs  \\\n",
       "0    [{'type': 'START', 'timestamp': 1675110926061}...   \n",
       "1    [{'type': 'START', 'timestamp': 1675110926938}...   \n",
       "2    [{'type': 'START', 'timestamp': 1675110966373}...   \n",
       "3    [{'type': 'START', 'timestamp': 1675110970603}...   \n",
       "4    [{'type': 'START', 'timestamp': 1675110975532}...   \n",
       "..                                                 ...   \n",
       "310  [{'type': 'START', 'timestamp': 1675123255389}...   \n",
       "311  [{'type': 'START', 'timestamp': 1675123441446}...   \n",
       "312  [{'type': 'START', 'timestamp': 1675123449064}...   \n",
       "313    [{'type': 'START', 'timestamp': 1675123469792}]   \n",
       "314                                               <NA>   \n",
       "\n",
       "                                menu  \\\n",
       "0                                NaN   \n",
       "1    KeyboardShortcutsWithCheatsheet   \n",
       "2    KeyboardShortcutsWithCheatsheet   \n",
       "3    KeyboardShortcutsWithCheatsheet   \n",
       "4    KeyboardShortcutsWithCheatsheet   \n",
       "..                               ...   \n",
       "310                      MarkingMenu   \n",
       "311                      MarkingMenu   \n",
       "312                      MarkingMenu   \n",
       "313                              NaN   \n",
       "314                              NaN   \n",
       "\n",
       "                                                 items        command  \\\n",
       "0                                                  NaN            NaN   \n",
       "1    [{\"icon\":{\"displayName\":\"Undo\"},\"label\":\"Undo\"...            NaN   \n",
       "2    [{\"icon\":{\"displayName\":\"Undo\"},\"label\":\"Undo\"...         Italic   \n",
       "3    [{\"icon\":{\"displayName\":\"Undo\"},\"label\":\"Undo\"...          Print   \n",
       "4    [{\"icon\":{\"displayName\":\"Undo\"},\"label\":\"Undo\"...  Bulleted list   \n",
       "..                                                 ...            ...   \n",
       "310  [{\"icon\":{\"displayName\":\"Undo\"},\"label\":\"Undo\"...            NaN   \n",
       "311  [{\"icon\":{\"displayName\":\"Undo\"},\"label\":\"Undo\"...            NaN   \n",
       "312  [{\"icon\":{\"displayName\":\"Undo\"},\"label\":\"Undo\"...            NaN   \n",
       "313                                                NaN            NaN   \n",
       "314                                                NaN            NaN   \n",
       "\n",
       "                                              question object  timeLimit  \\\n",
       "0                                                  NaN    NaN        NaN   \n",
       "1                                                  NaN    NaN        NaN   \n",
       "2                                                  NaN    NaN        NaN   \n",
       "3                                                  NaN    NaN        NaN   \n",
       "4                                                  NaN    NaN        NaN   \n",
       "..                                                 ...    ...        ...   \n",
       "310  Write down all of the original and creative\\n ...   shoe   180000.0   \n",
       "311                                                NaN    NaN        NaN   \n",
       "312                                                NaN    NaN        NaN   \n",
       "313                                                NaN    NaN        NaN   \n",
       "314                                                NaN    NaN        NaN   \n",
       "\n",
       "                                             questions     filename  \\\n",
       "0                                                  NaN          NaN   \n",
       "1                                                  NaN          NaN   \n",
       "2                                                  NaN          NaN   \n",
       "3                                                  NaN          NaN   \n",
       "4                                                  NaN          NaN   \n",
       "..                                                 ...          ...   \n",
       "310                                                NaN          NaN   \n",
       "311  [\"I felt creative while I was selecting comman...          NaN   \n",
       "312                                                NaN          NaN   \n",
       "313                                                NaN  majeed.json   \n",
       "314                                                NaN          NaN   \n",
       "\n",
       "               experimenter  \n",
       "0                       NaN  \n",
       "1                       NaN  \n",
       "2                       NaN  \n",
       "3                       NaN  \n",
       "4                       NaN  \n",
       "..                      ...  \n",
       "310                     NaN  \n",
       "311                     NaN  \n",
       "312                     NaN  \n",
       "313  blaine@dgp.toronto.edu  \n",
       "314                     NaN  \n",
       "\n",
       "[315 rows x 18 columns]"
      ]
     },
     "execution_count": 5,
     "metadata": {},
     "output_type": "execute_result"
    }
   ],
   "source": [
    "df"
   ]
  },
  {
   "cell_type": "code",
   "execution_count": 30,
   "metadata": {},
   "outputs": [
    {
     "data": {
      "text/plain": [
       "0    22.439333\n",
       "1     9.128367\n",
       "2    19.441400\n",
       "Name: duration, dtype: float64"
      ]
     },
     "execution_count": 30,
     "metadata": {},
     "output_type": "execute_result"
    }
   ],
   "source": [
    "gdf = df.groupby(['participant_id']).agg({'start' : 'min', 'end' : 'max'}).reset_index()\n",
    "gdf['duration'] = gdf['end'] - gdf['start']\n",
    "gdf['duration'] / 1000 / 60"
   ]
  },
  {
   "cell_type": "markdown",
   "metadata": {},
   "source": [
    "# Dataframe Creation"
   ]
  },
  {
   "cell_type": "markdown",
   "metadata": {
    "tags": []
   },
   "source": [
    "## Selection"
   ]
  },
  {
   "cell_type": "code",
   "execution_count": 6,
   "metadata": {},
   "outputs": [],
   "source": [
    "selection = df[df['task'] == 'CommandSelection'].copy()\n",
    "\n",
    "\n",
    "def extract_selection(row):\n",
    "    errors = 0\n",
    "    start = None\n",
    "    end = None\n",
    "    for log in row['logs']:\n",
    "        if log['type'] == 'WRONG_COMMAND':\n",
    "            errors += 1\n",
    "        if log['type'] == 'START':\n",
    "            start = log['timestamp']\n",
    "        if log['type'] == 'END':\n",
    "            end = log['timestamp']\n",
    "    row['errors'] = errors\n",
    "    row['has_error'] = errors > 0\n",
    "    row['duration_milliseconds'] = end - start\n",
    "    row['duration_minutes'] = row['duration_milliseconds'] / 1000 / 60\n",
    "\n",
    "    return row\n",
    "selection['trial'] = selection['__INDEX__'].map(lambda x: x[2])\n",
    "selection['trial_total'] = selection['__INDEX__'].map(lambda x: x[0] * x[1])\n",
    "\n",
    "selection = selection[['participant_id', '__INDEX__', 'logs', 'command', 'trial','trial_total', 'menu']]\n",
    "\n",
    "selection = selection.apply(extract_selection, axis=1)\n"
   ]
  },
  {
   "cell_type": "code",
   "execution_count": 7,
   "metadata": {},
   "outputs": [
    {
     "data": {
      "text/plain": [
       "<seaborn.axisgrid.FacetGrid at 0x7fbb69f50d00>"
      ]
     },
     "execution_count": 7,
     "metadata": {},
     "output_type": "execute_result"
    },
    {
     "data": {
      "image/png": "[encoded data removed]",
      "text/plain": [
       "<Figure size 436.5x360 with 1 Axes>"
      ]
     },
     "metadata": {
      "needs_background": "light"
     },
     "output_type": "display_data"
    }
   ],
   "source": [
    "sns.catplot(data=selection, kind=\"bar\", x='menu', y='duration_milliseconds', hue='participant_id')"
   ]
  },
  {
   "cell_type": "code",
   "execution_count": 8,
   "metadata": {},
   "outputs": [
    {
     "data": {
      "text/plain": [
       "<seaborn.axisgrid.FacetGrid at 0x7fbb6a06f2b0>"
      ]
     },
     "execution_count": 8,
     "metadata": {},
     "output_type": "execute_result"
    },
    {
     "data": {
      "image/png": "[encoded data removed]",
      "text/plain": [
       "<Figure size 570.25x360 with 1 Axes>"
      ]
     },
     "metadata": {
      "needs_background": "light"
     },
     "output_type": "display_data"
    }
   ],
   "source": [
    "sns.catplot(data=selection, kind=\"bar\", x='participant_id', y='duration_milliseconds', hue='menu')"
   ]
  },
  {
   "cell_type": "code",
   "execution_count": 9,
   "metadata": {},
   "outputs": [
    {
     "data": {
      "text/plain": [
       "<seaborn.axisgrid.FacetGrid at 0x7fbb6a074640>"
      ]
     },
     "execution_count": 9,
     "metadata": {},
     "output_type": "execute_result"
    },
    {
     "data": {
      "image/png": "[encoded data removed]",
      "text/plain": [
       "<Figure size 436.5x360 with 1 Axes>"
      ]
     },
     "metadata": {
      "needs_background": "light"
     },
     "output_type": "display_data"
    }
   ],
   "source": [
    "sns.catplot(data=selection, kind=\"bar\", x='menu', y='errors', hue='participant_id')"
   ]
  },
  {
   "cell_type": "code",
   "execution_count": 10,
   "metadata": {},
   "outputs": [
    {
     "data": {
      "text/plain": [
       "<seaborn.axisgrid.FacetGrid at 0x7fbb3852c1c0>"
      ]
     },
     "execution_count": 10,
     "metadata": {},
     "output_type": "execute_result"
    },
    {
     "data": {
      "image/png": "[encoded data removed]",
      "text/plain": [
       "<Figure size 570.25x360 with 1 Axes>"
      ]
     },
     "metadata": {
      "needs_background": "light"
     },
     "output_type": "display_data"
    }
   ],
   "source": [
    "sns.catplot(data=selection, kind=\"bar\", x='participant_id', y='errors', hue='menu')"
   ]
  },
  {
   "cell_type": "code",
   "execution_count": 11,
   "metadata": {},
   "outputs": [
    {
     "data": {
      "text/plain": [
       "<seaborn.axisgrid.FacetGrid at 0x7fbb588cf160>"
      ]
     },
     "execution_count": 11,
     "metadata": {},
     "output_type": "execute_result"
    },
    {
     "data": {
      "image/png": "[encoded data removed]",
      "text/plain": [
       "<Figure size 1184.5x360 with 3 Axes>"
      ]
     },
     "metadata": {
      "needs_background": "light"
     },
     "output_type": "display_data"
    }
   ],
   "source": [
    "sns.relplot(data=selection,kind='line', x='trial', y='duration_milliseconds', hue='participant_id', col=\"menu\")"
   ]
  },
  {
   "cell_type": "code",
   "execution_count": null,
   "metadata": {},
   "outputs": [],
   "source": []
  },
  {
   "cell_type": "code",
   "execution_count": 12,
   "metadata": {},
   "outputs": [
    {
     "data": {
      "text/plain": [
       "<seaborn.axisgrid.FacetGrid at 0x7fbb6a0dcf40>"
      ]
     },
     "execution_count": 12,
     "metadata": {},
     "output_type": "execute_result"
    },
    {
     "data": {
      "image/png": "[encoded data removed]",
      "text/plain": [
       "<Figure size 570.25x360 with 1 Axes>"
      ]
     },
     "metadata": {
      "needs_background": "light"
     },
     "output_type": "display_data"
    }
   ],
   "source": [
    "sns.catplot(data=selection.groupby(['participant_id','menu']).sum().reset_index(), kind=\"bar\", x='participant_id', y='duration_milliseconds', hue='menu')"
   ]
  },
  {
   "cell_type": "code",
   "execution_count": 13,
   "metadata": {},
   "outputs": [
    {
     "data": {
      "text/plain": [
       "<seaborn.axisgrid.FacetGrid at 0x7fbb284a6340>"
      ]
     },
     "execution_count": 13,
     "metadata": {},
     "output_type": "execute_result"
    },
    {
     "data": {
      "image/png": "[encoded data removed]",
      "text/plain": [
       "<Figure size 436.5x360 with 1 Axes>"
      ]
     },
     "metadata": {
      "needs_background": "light"
     },
     "output_type": "display_data"
    }
   ],
   "source": [
    "sns.catplot(data=selection.groupby(['participant_id','menu']).sum().reset_index(), kind=\"bar\", x='menu', y='duration_milliseconds', hue='participant_id')"
   ]
  },
  {
   "cell_type": "code",
   "execution_count": 14,
   "metadata": {},
   "outputs": [
    {
     "data": {
      "text/plain": [
       "<seaborn.axisgrid.FacetGrid at 0x7fbb28380fa0>"
      ]
     },
     "execution_count": 14,
     "metadata": {},
     "output_type": "execute_result"
    },
    {
     "data": {
      "image/png": "[encoded data removed]",
      "text/plain": [
       "<Figure size 570.25x360 with 1 Axes>"
      ]
     },
     "metadata": {
      "needs_background": "light"
     },
     "output_type": "display_data"
    }
   ],
   "source": [
    "sns.catplot(data=selection.groupby(['participant_id','menu']).sum().reset_index(), kind=\"bar\", x='participant_id', y='duration_minutes', hue='menu')"
   ]
  },
  {
   "cell_type": "code",
   "execution_count": 19,
   "metadata": {},
   "outputs": [
    {
     "data": {
      "text/plain": [
       "<seaborn.axisgrid.FacetGrid at 0x7fbb6a0b0610>"
      ]
     },
     "execution_count": 19,
     "metadata": {},
     "output_type": "execute_result"
    },
    {
     "data": {
      "image/png": "[encoded data removed]",
      "text/plain": [
       "<Figure size 360x360 with 1 Axes>"
      ]
     },
     "metadata": {
      "needs_background": "light"
     },
     "output_type": "display_data"
    }
   ],
   "source": [
    "sns.catplot(data=selection.groupby(['participant_id','menu']).sum().reset_index(), kind=\"bar\", x='menu', y='duration_minutes')"
   ]
  },
  {
   "cell_type": "markdown",
   "metadata": {},
   "source": [
    "## Creativity"
   ]
  },
  {
   "cell_type": "code",
   "execution_count": 15,
   "metadata": {},
   "outputs": [],
   "source": [
    "unusual_uses = df[df['task'] == 'DivergentTest']\n",
    "\n",
    "# TODO: so the issue here is that we have multiple rows per group.\n",
    "\n",
    "def extract_unusual_uses(g):\n",
    "    for index, row in g.iterrows():\n",
    "        if not isinstance(row['logs'], list):\n",
    "            return pd.Series(pd.NA)\n",
    "\n",
    "        for log in row['logs']:\n",
    "            if log['type'] == 'DivergentTest':\n",
    "                new_df = pd.DataFrame(log['values'], columns=['values'])\n",
    "                new_df['topTwo'] = False\n",
    "                # TODO: just need to pad the Nones with some falses to make things worlk\n",
    "\n",
    "                new_df.loc[list(map(bool, log['topTwo'])) + [False] * (len(log['values']) - len(log['topTwo'])), 'topTwo'] = True\n",
    "                return new_df\n",
    "        \n",
    "unusual_uses = unusual_uses.groupby(['participant_id', 'menu', 'object']).apply(extract_unusual_uses).reset_index()\n",
    "del unusual_uses['level_3']\n",
    "# del unusual_uses[0]"
   ]
  },
  {
   "cell_type": "code",
   "execution_count": 16,
   "metadata": {},
   "outputs": [
    {
     "data": {
      "text/html": [
       "<div>\n",
       "<style scoped>\n",
       "    .dataframe tbody tr th:only-of-type {\n",
       "        vertical-align: middle;\n",
       "    }\n",
       "\n",
       "    .dataframe tbody tr th {\n",
       "        vertical-align: top;\n",
       "    }\n",
       "\n",
       "    .dataframe thead th {\n",
       "        text-align: right;\n",
       "    }\n",
       "</style>\n",
       "<table border=\"1\" class=\"dataframe\">\n",
       "  <thead>\n",
       "    <tr style=\"text-align: right;\">\n",
       "      <th></th>\n",
       "      <th>participant_id</th>\n",
       "      <th>menu</th>\n",
       "      <th>object</th>\n",
       "      <th>values</th>\n",
       "      <th>topTwo</th>\n",
       "    </tr>\n",
       "  </thead>\n",
       "  <tbody>\n",
       "    <tr>\n",
       "      <th>1</th>\n",
       "      <td>1</td>\n",
       "      <td>KeyboardShortcutsWithCheatsheet</td>\n",
       "      <td>shoe</td>\n",
       "      <td>as a tennis ball</td>\n",
       "      <td>True</td>\n",
       "    </tr>\n",
       "    <tr>\n",
       "      <th>11</th>\n",
       "      <td>1</td>\n",
       "      <td>KeyboardShortcutsWithCheatsheet</td>\n",
       "      <td>shoe</td>\n",
       "      <td>to collect seasoning off the ground</td>\n",
       "      <td>True</td>\n",
       "    </tr>\n",
       "    <tr>\n",
       "      <th>20</th>\n",
       "      <td>1</td>\n",
       "      <td>MarkingMenu</td>\n",
       "      <td>knife</td>\n",
       "      <td>as a research companion to talk to</td>\n",
       "      <td>True</td>\n",
       "    </tr>\n",
       "    <tr>\n",
       "      <th>22</th>\n",
       "      <td>1</td>\n",
       "      <td>MarkingMenu</td>\n",
       "      <td>knife</td>\n",
       "      <td>as a lightning rod</td>\n",
       "      <td>True</td>\n",
       "    </tr>\n",
       "    <tr>\n",
       "      <th>28</th>\n",
       "      <td>1</td>\n",
       "      <td>ToolPalette</td>\n",
       "      <td>brick</td>\n",
       "      <td>to collect some rain water and have a drink</td>\n",
       "      <td>True</td>\n",
       "    </tr>\n",
       "    <tr>\n",
       "      <th>37</th>\n",
       "      <td>1</td>\n",
       "      <td>ToolPalette</td>\n",
       "      <td>brick</td>\n",
       "      <td>to use as a basketball</td>\n",
       "      <td>True</td>\n",
       "    </tr>\n",
       "    <tr>\n",
       "      <th>39</th>\n",
       "      <td>2</td>\n",
       "      <td>KeyboardShortcutsWithCheatsheet</td>\n",
       "      <td>brick</td>\n",
       "      <td>Break windows</td>\n",
       "      <td>True</td>\n",
       "    </tr>\n",
       "    <tr>\n",
       "      <th>44</th>\n",
       "      <td>2</td>\n",
       "      <td>KeyboardShortcutsWithCheatsheet</td>\n",
       "      <td>brick</td>\n",
       "      <td>Hold things in place like paper</td>\n",
       "      <td>True</td>\n",
       "    </tr>\n",
       "    <tr>\n",
       "      <th>46</th>\n",
       "      <td>2</td>\n",
       "      <td>MarkingMenu</td>\n",
       "      <td>shoe</td>\n",
       "      <td>Building a structure with it</td>\n",
       "      <td>True</td>\n",
       "    </tr>\n",
       "    <tr>\n",
       "      <th>47</th>\n",
       "      <td>2</td>\n",
       "      <td>MarkingMenu</td>\n",
       "      <td>shoe</td>\n",
       "      <td>Painting with it</td>\n",
       "      <td>True</td>\n",
       "    </tr>\n",
       "    <tr>\n",
       "      <th>54</th>\n",
       "      <td>2</td>\n",
       "      <td>ToolPalette</td>\n",
       "      <td>knife</td>\n",
       "      <td>Open cans</td>\n",
       "      <td>True</td>\n",
       "    </tr>\n",
       "    <tr>\n",
       "      <th>55</th>\n",
       "      <td>2</td>\n",
       "      <td>ToolPalette</td>\n",
       "      <td>knife</td>\n",
       "      <td>Clean dirty surfaces</td>\n",
       "      <td>True</td>\n",
       "    </tr>\n",
       "    <tr>\n",
       "      <th>57</th>\n",
       "      <td>3</td>\n",
       "      <td>KeyboardShortcutsWithCheatsheet</td>\n",
       "      <td>brick</td>\n",
       "      <td>making lego castles</td>\n",
       "      <td>True</td>\n",
       "    </tr>\n",
       "    <tr>\n",
       "      <th>58</th>\n",
       "      <td>3</td>\n",
       "      <td>KeyboardShortcutsWithCheatsheet</td>\n",
       "      <td>brick</td>\n",
       "      <td>painting them white and creating an igloo</td>\n",
       "      <td>True</td>\n",
       "    </tr>\n",
       "    <tr>\n",
       "      <th>60</th>\n",
       "      <td>3</td>\n",
       "      <td>MarkingMenu</td>\n",
       "      <td>shoe</td>\n",
       "      <td>using a shoe as a flower pot</td>\n",
       "      <td>True</td>\n",
       "    </tr>\n",
       "    <tr>\n",
       "      <th>61</th>\n",
       "      <td>3</td>\n",
       "      <td>MarkingMenu</td>\n",
       "      <td>shoe</td>\n",
       "      <td>using an upside down shoe as a small house for...</td>\n",
       "      <td>True</td>\n",
       "    </tr>\n",
       "    <tr>\n",
       "      <th>66</th>\n",
       "      <td>3</td>\n",
       "      <td>ToolPalette</td>\n",
       "      <td>knife</td>\n",
       "      <td>peeling a fruit or a potato</td>\n",
       "      <td>True</td>\n",
       "    </tr>\n",
       "    <tr>\n",
       "      <th>69</th>\n",
       "      <td>3</td>\n",
       "      <td>ToolPalette</td>\n",
       "      <td>knife</td>\n",
       "      <td>creating new knives or other tools</td>\n",
       "      <td>True</td>\n",
       "    </tr>\n",
       "  </tbody>\n",
       "</table>\n",
       "</div>"
      ],
      "text/plain": [
       "    participant_id                             menu object  \\\n",
       "1                1  KeyboardShortcutsWithCheatsheet   shoe   \n",
       "11               1  KeyboardShortcutsWithCheatsheet   shoe   \n",
       "20               1                      MarkingMenu  knife   \n",
       "22               1                      MarkingMenu  knife   \n",
       "28               1                      ToolPalette  brick   \n",
       "37               1                      ToolPalette  brick   \n",
       "39               2  KeyboardShortcutsWithCheatsheet  brick   \n",
       "44               2  KeyboardShortcutsWithCheatsheet  brick   \n",
       "46               2                      MarkingMenu   shoe   \n",
       "47               2                      MarkingMenu   shoe   \n",
       "54               2                      ToolPalette  knife   \n",
       "55               2                      ToolPalette  knife   \n",
       "57               3  KeyboardShortcutsWithCheatsheet  brick   \n",
       "58               3  KeyboardShortcutsWithCheatsheet  brick   \n",
       "60               3                      MarkingMenu   shoe   \n",
       "61               3                      MarkingMenu   shoe   \n",
       "66               3                      ToolPalette  knife   \n",
       "69               3                      ToolPalette  knife   \n",
       "\n",
       "                                               values  topTwo  \n",
       "1                                    as a tennis ball    True  \n",
       "11                to collect seasoning off the ground    True  \n",
       "20                 as a research companion to talk to    True  \n",
       "22                                 as a lightning rod    True  \n",
       "28        to collect some rain water and have a drink    True  \n",
       "37                             to use as a basketball    True  \n",
       "39                                      Break windows    True  \n",
       "44                    Hold things in place like paper    True  \n",
       "46                       Building a structure with it    True  \n",
       "47                                   Painting with it    True  \n",
       "54                                          Open cans    True  \n",
       "55                               Clean dirty surfaces    True  \n",
       "57                                making lego castles    True  \n",
       "58          painting them white and creating an igloo    True  \n",
       "60                       using a shoe as a flower pot    True  \n",
       "61  using an upside down shoe as a small house for...    True  \n",
       "66                        peeling a fruit or a potato    True  \n",
       "69                 creating new knives or other tools    True  "
      ]
     },
     "execution_count": 16,
     "metadata": {},
     "output_type": "execute_result"
    }
   ],
   "source": [
    "unusual_uses[unusual_uses['topTwo']]"
   ]
  },
  {
   "cell_type": "code",
   "execution_count": 17,
   "metadata": {},
   "outputs": [
    {
     "data": {
      "text/plain": [
       "<seaborn.axisgrid.FacetGrid at 0x7fbb08754430>"
      ]
     },
     "execution_count": 17,
     "metadata": {},
     "output_type": "execute_result"
    },
    {
     "data": {
      "image/png": "[encoded data removed]",
      "text/plain": [
       "<Figure size 570.25x360 with 1 Axes>"
      ]
     },
     "metadata": {
      "needs_background": "light"
     },
     "output_type": "display_data"
    }
   ],
   "source": [
    "sns.catplot(data=unusual_uses.groupby(['participant_id','menu', 'object']).count().reset_index(), kind=\"bar\", x='participant_id', y='values', hue='menu')"
   ]
  },
  {
   "cell_type": "code",
   "execution_count": 120,
   "metadata": {},
   "outputs": [
    {
     "data": {
      "text/plain": [
       "<seaborn.axisgrid.FacetGrid at 0x7fcc71179df0>"
      ]
     },
     "execution_count": 120,
     "metadata": {},
     "output_type": "execute_result"
    },
    {
     "data": {
      "image/png": "[encoded data removed]",
      "text/plain": [
       "<Figure size 436.5x360 with 1 Axes>"
      ]
     },
     "metadata": {
      "needs_background": "light"
     },
     "output_type": "display_data"
    }
   ],
   "source": [
    "sns.catplot(data=unusual_uses.groupby(['participant_id','menu', 'object']).count().reset_index(), kind=\"bar\", x='object', y='values', hue='participant_id')"
   ]
  },
  {
   "cell_type": "code",
   "execution_count": 121,
   "metadata": {},
   "outputs": [
    {
     "data": {
      "text/plain": [
       "<seaborn.axisgrid.FacetGrid at 0x7fccb1120160>"
      ]
     },
     "execution_count": 121,
     "metadata": {},
     "output_type": "execute_result"
    },
    {
     "data": {
      "image/png": "[encoded data removed]",
      "text/plain": [
       "<Figure size 436.5x360 with 1 Axes>"
      ]
     },
     "metadata": {
      "needs_background": "light"
     },
     "output_type": "display_data"
    }
   ],
   "source": [
    "sns.catplot(data=unusual_uses.groupby(['participant_id','menu', 'object']).count().reset_index(), kind=\"bar\", x='menu', y='values', hue='participant_id')"
   ]
  },
  {
   "cell_type": "code",
   "execution_count": 122,
   "metadata": {},
   "outputs": [
    {
     "data": {
      "text/html": [
       "<div>\n",
       "<style scoped>\n",
       "    .dataframe tbody tr th:only-of-type {\n",
       "        vertical-align: middle;\n",
       "    }\n",
       "\n",
       "    .dataframe tbody tr th {\n",
       "        vertical-align: top;\n",
       "    }\n",
       "\n",
       "    .dataframe thead th {\n",
       "        text-align: right;\n",
       "    }\n",
       "</style>\n",
       "<table border=\"1\" class=\"dataframe\">\n",
       "  <thead>\n",
       "    <tr style=\"text-align: right;\">\n",
       "      <th></th>\n",
       "      <th></th>\n",
       "      <th></th>\n",
       "      <th>values</th>\n",
       "      <th>topTwo</th>\n",
       "    </tr>\n",
       "    <tr>\n",
       "      <th>participant_id</th>\n",
       "      <th>menu</th>\n",
       "      <th>object</th>\n",
       "      <th></th>\n",
       "      <th></th>\n",
       "    </tr>\n",
       "  </thead>\n",
       "  <tbody>\n",
       "    <tr>\n",
       "      <th rowspan=\"3\" valign=\"top\">1</th>\n",
       "      <th>KeyboardShortcutsWithCheatsheet</th>\n",
       "      <th>shoe</th>\n",
       "      <td>14</td>\n",
       "      <td>14</td>\n",
       "    </tr>\n",
       "    <tr>\n",
       "      <th>MarkingMenu</th>\n",
       "      <th>knife</th>\n",
       "      <td>13</td>\n",
       "      <td>13</td>\n",
       "    </tr>\n",
       "    <tr>\n",
       "      <th>ToolPalette</th>\n",
       "      <th>brick</th>\n",
       "      <td>12</td>\n",
       "      <td>12</td>\n",
       "    </tr>\n",
       "    <tr>\n",
       "      <th rowspan=\"3\" valign=\"top\">2</th>\n",
       "      <th>KeyboardShortcutsWithCheatsheet</th>\n",
       "      <th>brick</th>\n",
       "      <td>6</td>\n",
       "      <td>6</td>\n",
       "    </tr>\n",
       "    <tr>\n",
       "      <th>MarkingMenu</th>\n",
       "      <th>shoe</th>\n",
       "      <td>6</td>\n",
       "      <td>6</td>\n",
       "    </tr>\n",
       "    <tr>\n",
       "      <th>ToolPalette</th>\n",
       "      <th>knife</th>\n",
       "      <td>6</td>\n",
       "      <td>6</td>\n",
       "    </tr>\n",
       "    <tr>\n",
       "      <th rowspan=\"3\" valign=\"top\">3</th>\n",
       "      <th>KeyboardShortcutsWithCheatsheet</th>\n",
       "      <th>brick</th>\n",
       "      <td>3</td>\n",
       "      <td>3</td>\n",
       "    </tr>\n",
       "    <tr>\n",
       "      <th>MarkingMenu</th>\n",
       "      <th>shoe</th>\n",
       "      <td>5</td>\n",
       "      <td>5</td>\n",
       "    </tr>\n",
       "    <tr>\n",
       "      <th>ToolPalette</th>\n",
       "      <th>knife</th>\n",
       "      <td>8</td>\n",
       "      <td>8</td>\n",
       "    </tr>\n",
       "  </tbody>\n",
       "</table>\n",
       "</div>"
      ],
      "text/plain": [
       "                                                       values  topTwo\n",
       "participant_id menu                            object                \n",
       "1              KeyboardShortcutsWithCheatsheet shoe        14      14\n",
       "               MarkingMenu                     knife       13      13\n",
       "               ToolPalette                     brick       12      12\n",
       "2              KeyboardShortcutsWithCheatsheet brick        6       6\n",
       "               MarkingMenu                     shoe         6       6\n",
       "               ToolPalette                     knife        6       6\n",
       "3              KeyboardShortcutsWithCheatsheet brick        3       3\n",
       "               MarkingMenu                     shoe         5       5\n",
       "               ToolPalette                     knife        8       8"
      ]
     },
     "execution_count": 122,
     "metadata": {},
     "output_type": "execute_result"
    }
   ],
   "source": [
    "unusual_uses.groupby(['participant_id','menu','object']).count()"
   ]
  },
  {
   "cell_type": "code",
   "execution_count": 123,
   "metadata": {},
   "outputs": [
    {
     "data": {
      "text/html": [
       "<div>\n",
       "<style scoped>\n",
       "    .dataframe tbody tr th:only-of-type {\n",
       "        vertical-align: middle;\n",
       "    }\n",
       "\n",
       "    .dataframe tbody tr th {\n",
       "        vertical-align: top;\n",
       "    }\n",
       "\n",
       "    .dataframe thead th {\n",
       "        text-align: right;\n",
       "    }\n",
       "</style>\n",
       "<table border=\"1\" class=\"dataframe\">\n",
       "  <thead>\n",
       "    <tr style=\"text-align: right;\">\n",
       "      <th></th>\n",
       "      <th>participant_id</th>\n",
       "      <th>metadata</th>\n",
       "      <th>tasks</th>\n",
       "      <th>DevTools</th>\n",
       "      <th>__INDEX__</th>\n",
       "      <th>participant_number</th>\n",
       "      <th>task</th>\n",
       "      <th>content</th>\n",
       "      <th>logs</th>\n",
       "      <th>menu</th>\n",
       "      <th>...</th>\n",
       "      <th>timeLimit</th>\n",
       "      <th>questions</th>\n",
       "      <th>filename</th>\n",
       "      <th>experimenter</th>\n",
       "      <th>Mental Demand</th>\n",
       "      <th>Physical Demand</th>\n",
       "      <th>Temporal Demand</th>\n",
       "      <th>Performance</th>\n",
       "      <th>Effort</th>\n",
       "      <th>Frustration</th>\n",
       "    </tr>\n",
       "  </thead>\n",
       "  <tbody>\n",
       "    <tr>\n",
       "      <th>34</th>\n",
       "      <td>1</td>\n",
       "      <td>{\"git_commit\":\"0010ac92f48025bd22d773a1f482af6...</td>\n",
       "      <td>[\"ProgressBar\",\"DevTools\"]</td>\n",
       "      <td>{\"showInProduction\":false}</td>\n",
       "      <td>[4]</td>\n",
       "      <td>0</td>\n",
       "      <td>NasaTlx</td>\n",
       "      <td>NaN</td>\n",
       "      <td>[{'type': 'START', 'timestamp': 1675111371644}...</td>\n",
       "      <td>KeyboardShortcutsWithCheatsheet</td>\n",
       "      <td>...</td>\n",
       "      <td>NaN</td>\n",
       "      <td>NaN</td>\n",
       "      <td>NaN</td>\n",
       "      <td>NaN</td>\n",
       "      <td>10</td>\n",
       "      <td>4</td>\n",
       "      <td>10</td>\n",
       "      <td>8</td>\n",
       "      <td>14</td>\n",
       "      <td>12</td>\n",
       "    </tr>\n",
       "    <tr>\n",
       "      <th>68</th>\n",
       "      <td>1</td>\n",
       "      <td>{\"git_commit\":\"0010ac92f48025bd22d773a1f482af6...</td>\n",
       "      <td>[\"ProgressBar\",\"DevTools\"]</td>\n",
       "      <td>{\"showInProduction\":false}</td>\n",
       "      <td>[4]</td>\n",
       "      <td>0</td>\n",
       "      <td>NasaTlx</td>\n",
       "      <td>NaN</td>\n",
       "      <td>[{'type': 'START', 'timestamp': 1675111871174}...</td>\n",
       "      <td>MarkingMenu</td>\n",
       "      <td>...</td>\n",
       "      <td>NaN</td>\n",
       "      <td>NaN</td>\n",
       "      <td>NaN</td>\n",
       "      <td>NaN</td>\n",
       "      <td>16</td>\n",
       "      <td>12</td>\n",
       "      <td>10</td>\n",
       "      <td>6</td>\n",
       "      <td>10</td>\n",
       "      <td>12</td>\n",
       "    </tr>\n",
       "    <tr>\n",
       "      <th>102</th>\n",
       "      <td>1</td>\n",
       "      <td>{\"git_commit\":\"0010ac92f48025bd22d773a1f482af6...</td>\n",
       "      <td>[\"ProgressBar\",\"DevTools\"]</td>\n",
       "      <td>{\"showInProduction\":false}</td>\n",
       "      <td>[4]</td>\n",
       "      <td>0</td>\n",
       "      <td>NasaTlx</td>\n",
       "      <td>NaN</td>\n",
       "      <td>[{'type': 'START', 'timestamp': 1675112193863}...</td>\n",
       "      <td>ToolPalette</td>\n",
       "      <td>...</td>\n",
       "      <td>NaN</td>\n",
       "      <td>NaN</td>\n",
       "      <td>NaN</td>\n",
       "      <td>NaN</td>\n",
       "      <td>10</td>\n",
       "      <td>18</td>\n",
       "      <td>10</td>\n",
       "      <td>16</td>\n",
       "      <td>16</td>\n",
       "      <td>14</td>\n",
       "    </tr>\n",
       "    <tr>\n",
       "      <th>139</th>\n",
       "      <td>2</td>\n",
       "      <td>{\"git_commit\":\"3f9b2cc710a4b9cb4620695eaf653e7...</td>\n",
       "      <td>[\"ProgressBar\",\"DevTools\"]</td>\n",
       "      <td>{\"showInProduction\":true}</td>\n",
       "      <td>[4]</td>\n",
       "      <td>1</td>\n",
       "      <td>NasaTlx</td>\n",
       "      <td>NaN</td>\n",
       "      <td>[{'type': 'START', 'timestamp': 1675107566735}...</td>\n",
       "      <td>ToolPalette</td>\n",
       "      <td>...</td>\n",
       "      <td>NaN</td>\n",
       "      <td>NaN</td>\n",
       "      <td>NaN</td>\n",
       "      <td>NaN</td>\n",
       "      <td>3</td>\n",
       "      <td>3</td>\n",
       "      <td>5</td>\n",
       "      <td>7</td>\n",
       "      <td>5</td>\n",
       "      <td>3</td>\n",
       "    </tr>\n",
       "    <tr>\n",
       "      <th>173</th>\n",
       "      <td>2</td>\n",
       "      <td>{\"git_commit\":\"3f9b2cc710a4b9cb4620695eaf653e7...</td>\n",
       "      <td>[\"ProgressBar\",\"DevTools\"]</td>\n",
       "      <td>{\"showInProduction\":true}</td>\n",
       "      <td>[4]</td>\n",
       "      <td>1</td>\n",
       "      <td>NasaTlx</td>\n",
       "      <td>NaN</td>\n",
       "      <td>[{'type': 'START', 'timestamp': 1675107788601}...</td>\n",
       "      <td>MarkingMenu</td>\n",
       "      <td>...</td>\n",
       "      <td>NaN</td>\n",
       "      <td>NaN</td>\n",
       "      <td>NaN</td>\n",
       "      <td>NaN</td>\n",
       "      <td>9</td>\n",
       "      <td>7</td>\n",
       "      <td>5</td>\n",
       "      <td>7</td>\n",
       "      <td>7</td>\n",
       "      <td>7</td>\n",
       "    </tr>\n",
       "    <tr>\n",
       "      <th>207</th>\n",
       "      <td>2</td>\n",
       "      <td>{\"git_commit\":\"3f9b2cc710a4b9cb4620695eaf653e7...</td>\n",
       "      <td>[\"ProgressBar\",\"DevTools\"]</td>\n",
       "      <td>{\"showInProduction\":true}</td>\n",
       "      <td>[4]</td>\n",
       "      <td>1</td>\n",
       "      <td>NasaTlx</td>\n",
       "      <td>NaN</td>\n",
       "      <td>[{'type': 'START', 'timestamp': 1675107959564}...</td>\n",
       "      <td>KeyboardShortcutsWithCheatsheet</td>\n",
       "      <td>...</td>\n",
       "      <td>NaN</td>\n",
       "      <td>NaN</td>\n",
       "      <td>NaN</td>\n",
       "      <td>NaN</td>\n",
       "      <td>9</td>\n",
       "      <td>7</td>\n",
       "      <td>7</td>\n",
       "      <td>9</td>\n",
       "      <td>9</td>\n",
       "      <td>8</td>\n",
       "    </tr>\n",
       "    <tr>\n",
       "      <th>244</th>\n",
       "      <td>3</td>\n",
       "      <td>{\"git_commit\":\"0010ac92f48025bd22d773a1f482af6...</td>\n",
       "      <td>[\"ProgressBar\",\"DevTools\"]</td>\n",
       "      <td>{\"showInProduction\":false}</td>\n",
       "      <td>[4]</td>\n",
       "      <td>2</td>\n",
       "      <td>NasaTlx</td>\n",
       "      <td>NaN</td>\n",
       "      <td>[{'type': 'START', 'timestamp': 1675122624390}...</td>\n",
       "      <td>ToolPalette</td>\n",
       "      <td>...</td>\n",
       "      <td>NaN</td>\n",
       "      <td>NaN</td>\n",
       "      <td>NaN</td>\n",
       "      <td>NaN</td>\n",
       "      <td>8</td>\n",
       "      <td>1</td>\n",
       "      <td>2</td>\n",
       "      <td>8</td>\n",
       "      <td>7</td>\n",
       "      <td>4</td>\n",
       "    </tr>\n",
       "    <tr>\n",
       "      <th>278</th>\n",
       "      <td>3</td>\n",
       "      <td>{\"git_commit\":\"0010ac92f48025bd22d773a1f482af6...</td>\n",
       "      <td>[\"ProgressBar\",\"DevTools\"]</td>\n",
       "      <td>{\"showInProduction\":false}</td>\n",
       "      <td>[4]</td>\n",
       "      <td>2</td>\n",
       "      <td>NasaTlx</td>\n",
       "      <td>NaN</td>\n",
       "      <td>[{'type': 'START', 'timestamp': 1675122956890}...</td>\n",
       "      <td>KeyboardShortcutsWithCheatsheet</td>\n",
       "      <td>...</td>\n",
       "      <td>NaN</td>\n",
       "      <td>NaN</td>\n",
       "      <td>NaN</td>\n",
       "      <td>NaN</td>\n",
       "      <td>6</td>\n",
       "      <td>1</td>\n",
       "      <td>2</td>\n",
       "      <td>16</td>\n",
       "      <td>13</td>\n",
       "      <td>10</td>\n",
       "    </tr>\n",
       "    <tr>\n",
       "      <th>312</th>\n",
       "      <td>3</td>\n",
       "      <td>{\"git_commit\":\"0010ac92f48025bd22d773a1f482af6...</td>\n",
       "      <td>[\"ProgressBar\",\"DevTools\"]</td>\n",
       "      <td>{\"showInProduction\":false}</td>\n",
       "      <td>[4]</td>\n",
       "      <td>2</td>\n",
       "      <td>NasaTlx</td>\n",
       "      <td>NaN</td>\n",
       "      <td>[{'type': 'START', 'timestamp': 1675123449064}...</td>\n",
       "      <td>MarkingMenu</td>\n",
       "      <td>...</td>\n",
       "      <td>NaN</td>\n",
       "      <td>NaN</td>\n",
       "      <td>NaN</td>\n",
       "      <td>NaN</td>\n",
       "      <td>7</td>\n",
       "      <td>1</td>\n",
       "      <td>3</td>\n",
       "      <td>4</td>\n",
       "      <td>13</td>\n",
       "      <td>6</td>\n",
       "    </tr>\n",
       "  </tbody>\n",
       "</table>\n",
       "<p>9 rows × 24 columns</p>\n",
       "</div>"
      ],
      "text/plain": [
       "    participant_id                                           metadata  \\\n",
       "34               1  {\"git_commit\":\"0010ac92f48025bd22d773a1f482af6...   \n",
       "68               1  {\"git_commit\":\"0010ac92f48025bd22d773a1f482af6...   \n",
       "102              1  {\"git_commit\":\"0010ac92f48025bd22d773a1f482af6...   \n",
       "139              2  {\"git_commit\":\"3f9b2cc710a4b9cb4620695eaf653e7...   \n",
       "173              2  {\"git_commit\":\"3f9b2cc710a4b9cb4620695eaf653e7...   \n",
       "207              2  {\"git_commit\":\"3f9b2cc710a4b9cb4620695eaf653e7...   \n",
       "244              3  {\"git_commit\":\"0010ac92f48025bd22d773a1f482af6...   \n",
       "278              3  {\"git_commit\":\"0010ac92f48025bd22d773a1f482af6...   \n",
       "312              3  {\"git_commit\":\"0010ac92f48025bd22d773a1f482af6...   \n",
       "\n",
       "                          tasks                    DevTools __INDEX__  \\\n",
       "34   [\"ProgressBar\",\"DevTools\"]  {\"showInProduction\":false}       [4]   \n",
       "68   [\"ProgressBar\",\"DevTools\"]  {\"showInProduction\":false}       [4]   \n",
       "102  [\"ProgressBar\",\"DevTools\"]  {\"showInProduction\":false}       [4]   \n",
       "139  [\"ProgressBar\",\"DevTools\"]   {\"showInProduction\":true}       [4]   \n",
       "173  [\"ProgressBar\",\"DevTools\"]   {\"showInProduction\":true}       [4]   \n",
       "207  [\"ProgressBar\",\"DevTools\"]   {\"showInProduction\":true}       [4]   \n",
       "244  [\"ProgressBar\",\"DevTools\"]  {\"showInProduction\":false}       [4]   \n",
       "278  [\"ProgressBar\",\"DevTools\"]  {\"showInProduction\":false}       [4]   \n",
       "312  [\"ProgressBar\",\"DevTools\"]  {\"showInProduction\":false}       [4]   \n",
       "\n",
       "     participant_number     task content  \\\n",
       "34                    0  NasaTlx     NaN   \n",
       "68                    0  NasaTlx     NaN   \n",
       "102                   0  NasaTlx     NaN   \n",
       "139                   1  NasaTlx     NaN   \n",
       "173                   1  NasaTlx     NaN   \n",
       "207                   1  NasaTlx     NaN   \n",
       "244                   2  NasaTlx     NaN   \n",
       "278                   2  NasaTlx     NaN   \n",
       "312                   2  NasaTlx     NaN   \n",
       "\n",
       "                                                  logs  \\\n",
       "34   [{'type': 'START', 'timestamp': 1675111371644}...   \n",
       "68   [{'type': 'START', 'timestamp': 1675111871174}...   \n",
       "102  [{'type': 'START', 'timestamp': 1675112193863}...   \n",
       "139  [{'type': 'START', 'timestamp': 1675107566735}...   \n",
       "173  [{'type': 'START', 'timestamp': 1675107788601}...   \n",
       "207  [{'type': 'START', 'timestamp': 1675107959564}...   \n",
       "244  [{'type': 'START', 'timestamp': 1675122624390}...   \n",
       "278  [{'type': 'START', 'timestamp': 1675122956890}...   \n",
       "312  [{'type': 'START', 'timestamp': 1675123449064}...   \n",
       "\n",
       "                                menu  ... timeLimit questions filename  \\\n",
       "34   KeyboardShortcutsWithCheatsheet  ...       NaN       NaN      NaN   \n",
       "68                       MarkingMenu  ...       NaN       NaN      NaN   \n",
       "102                      ToolPalette  ...       NaN       NaN      NaN   \n",
       "139                      ToolPalette  ...       NaN       NaN      NaN   \n",
       "173                      MarkingMenu  ...       NaN       NaN      NaN   \n",
       "207  KeyboardShortcutsWithCheatsheet  ...       NaN       NaN      NaN   \n",
       "244                      ToolPalette  ...       NaN       NaN      NaN   \n",
       "278  KeyboardShortcutsWithCheatsheet  ...       NaN       NaN      NaN   \n",
       "312                      MarkingMenu  ...       NaN       NaN      NaN   \n",
       "\n",
       "    experimenter  Mental Demand Physical Demand Temporal Demand Performance  \\\n",
       "34           NaN             10               4              10           8   \n",
       "68           NaN             16              12              10           6   \n",
       "102          NaN             10              18              10          16   \n",
       "139          NaN              3               3               5           7   \n",
       "173          NaN              9               7               5           7   \n",
       "207          NaN              9               7               7           9   \n",
       "244          NaN              8               1               2           8   \n",
       "278          NaN              6               1               2          16   \n",
       "312          NaN              7               1               3           4   \n",
       "\n",
       "     Effort  Frustration  \n",
       "34       14           12  \n",
       "68       10           12  \n",
       "102      16           14  \n",
       "139       5            3  \n",
       "173       7            7  \n",
       "207       9            8  \n",
       "244       7            4  \n",
       "278      13           10  \n",
       "312      13            6  \n",
       "\n",
       "[9 rows x 24 columns]"
      ]
     },
     "execution_count": 123,
     "metadata": {},
     "output_type": "execute_result"
    }
   ],
   "source": [
    "tlx = df[df['task'] == 'NasaTlx']\n",
    "\n",
    "\n",
    "def extract_tlx(row):\n",
    "    if not isinstance(row['logs'], list):\n",
    "        return pd.Series(pd.NA)\n",
    "    \n",
    "    for log in row['logs']:\n",
    "        if log['type'] == 'NasaTlx':\n",
    "            return pd.Series(log['responses'])\n",
    "tlx = pd.concat([tlx, tlx.apply(extract_tlx, axis=1)], axis=1)\n",
    "tlx"
   ]
  },
  {
   "cell_type": "code",
   "execution_count": 124,
   "metadata": {},
   "outputs": [
    {
     "data": {
      "text/markdown": [
       "### Mental Demand"
      ],
      "text/plain": [
       "<IPython.core.display.Markdown object>"
      ]
     },
     "metadata": {},
     "output_type": "display_data"
    },
    {
     "data": {
      "text/markdown": [
       "### Physical Demand"
      ],
      "text/plain": [
       "<IPython.core.display.Markdown object>"
      ]
     },
     "metadata": {},
     "output_type": "display_data"
    },
    {
     "data": {
      "text/markdown": [
       "### Temporal Demand"
      ],
      "text/plain": [
       "<IPython.core.display.Markdown object>"
      ]
     },
     "metadata": {},
     "output_type": "display_data"
    },
    {
     "data": {
      "text/markdown": [
       "### Performance"
      ],
      "text/plain": [
       "<IPython.core.display.Markdown object>"
      ]
     },
     "metadata": {},
     "output_type": "display_data"
    },
    {
     "data": {
      "text/markdown": [
       "### Effort"
      ],
      "text/plain": [
       "<IPython.core.display.Markdown object>"
      ]
     },
     "metadata": {},
     "output_type": "display_data"
    },
    {
     "data": {
      "text/markdown": [
       "### Frustration"
      ],
      "text/plain": [
       "<IPython.core.display.Markdown object>"
      ]
     },
     "metadata": {},
     "output_type": "display_data"
    },
    {
     "data": {
      "image/png": "[encoded data removed]",
      "text/plain": [
       "<Figure size 436.5x360 with 1 Axes>"
      ]
     },
     "metadata": {
      "needs_background": "light"
     },
     "output_type": "display_data"
    },
    {
     "data": {
      "image/png": "[encoded data removed]",
      "text/plain": [
       "<Figure size 570.25x360 with 1 Axes>"
      ]
     },
     "metadata": {
      "needs_background": "light"
     },
     "output_type": "display_data"
    },
    {
     "data": {
      "image/png": "[encoded data removed]",
      "text/plain": [
       "<Figure size 436.5x360 with 1 Axes>"
      ]
     },
     "metadata": {
      "needs_background": "light"
     },
     "output_type": "display_data"
    },
    {
     "data": {
      "image/png": "[encoded data removed]",
      "text/plain": [
       "<Figure size 570.25x360 with 1 Axes>"
      ]
     },
     "metadata": {
      "needs_background": "light"
     },
     "output_type": "display_data"
    },
    {
     "data": {
      "image/png": "[encoded data removed]",
      "text/plain": [
       "<Figure size 436.5x360 with 1 Axes>"
      ]
     },
     "metadata": {
      "needs_background": "light"
     },
     "output_type": "display_data"
    },
    {
     "data": {
      "image/png": "[encoded data removed]",
      "text/plain": [
       "<Figure size 570.25x360 with 1 Axes>"
      ]
     },
     "metadata": {
      "needs_background": "light"
     },
     "output_type": "display_data"
    },
    {
     "data": {
      "image/png": "[encoded data removed]",
      "text/plain": [
       "<Figure size 436.5x360 with 1 Axes>"
      ]
     },
     "metadata": {
      "needs_background": "light"
     },
     "output_type": "display_data"
    },
    {
     "data": {
      "image/png": "[encoded data removed]",
      "text/plain": [
       "<Figure size 570.25x360 with 1 Axes>"
      ]
     },
     "metadata": {
      "needs_background": "light"
     },
     "output_type": "display_data"
    },
    {
     "data": {
      "image/png": "[encoded data removed]",
      "text/plain": [
       "<Figure size 436.5x360 with 1 Axes>"
      ]
     },
     "metadata": {
      "needs_background": "light"
     },
     "output_type": "display_data"
    },
    {
     "data": {
      "image/png": "[encoded data removed]",
      "text/plain": [
       "<Figure size 570.25x360 with 1 Axes>"
      ]
     },
     "metadata": {
      "needs_background": "light"
     },
     "output_type": "display_data"
    },
    {
     "data": {
      "image/png": "[encoded data removed]",
      "text/plain": [
       "<Figure size 436.5x360 with 1 Axes>"
      ]
     },
     "metadata": {
      "needs_background": "light"
     },
     "output_type": "display_data"
    },
    {
     "data": {
      "image/png": "[encoded data removed]",
      "text/plain": [
       "<Figure size 570.25x360 with 1 Axes>"
      ]
     },
     "metadata": {
      "needs_background": "light"
     },
     "output_type": "display_data"
    }
   ],
   "source": [
    "metrics = 'Mental Demand\tPhysical Demand\tTemporal Demand\tPerformance\tEffort\tFrustration'.split('\t')\n",
    "\n",
    "for metric in metrics:\n",
    "    display(Markdown(f'### {metric}'))\n",
    "    sns.catplot(data=tlx, kind=\"bar\", x='menu', y=metric, hue='participant_id')\n",
    "    sns.catplot(data=tlx, kind=\"bar\", x='participant_id', y=metric, hue='menu')"
   ]
  },
  {
   "cell_type": "code",
   "execution_count": 125,
   "metadata": {},
   "outputs": [],
   "source": [
    "questionnaire = df[df['task'] == 'Questionnaire']\n",
    "\n",
    "def extract_questionnaire(row):\n",
    "    if not isinstance(row['logs'], list):\n",
    "        return pd.Series(pd.NA)\n",
    "\n",
    "    for log in row['logs']:\n",
    "        if log['type'] == 'QuestionnaireResponses':\n",
    "            return pd.Series(log['responses'])\n",
    "        \n",
    "questionnaire = pd.concat([questionnaire, questionnaire.apply(extract_questionnaire, axis=1)], axis=1)\n",
    "questionnaire['felt'] = questionnaire['I felt creative while I was selecting commands.']\n",
    "questionnaire['use'] = questionnaire['I would like to use that command selection technique while doing a creative task like drawing or writing a story.']"
   ]
  },
  {
   "cell_type": "code",
   "execution_count": 126,
   "metadata": {},
   "outputs": [
    {
     "data": {
      "text/html": [
       "<div>\n",
       "<style scoped>\n",
       "    .dataframe tbody tr th:only-of-type {\n",
       "        vertical-align: middle;\n",
       "    }\n",
       "\n",
       "    .dataframe tbody tr th {\n",
       "        vertical-align: top;\n",
       "    }\n",
       "\n",
       "    .dataframe thead th {\n",
       "        text-align: right;\n",
       "    }\n",
       "</style>\n",
       "<table border=\"1\" class=\"dataframe\">\n",
       "  <thead>\n",
       "    <tr style=\"text-align: right;\">\n",
       "      <th></th>\n",
       "      <th>participant_id</th>\n",
       "      <th>metadata</th>\n",
       "      <th>tasks</th>\n",
       "      <th>DevTools</th>\n",
       "      <th>__INDEX__</th>\n",
       "      <th>participant_number</th>\n",
       "      <th>task</th>\n",
       "      <th>content</th>\n",
       "      <th>logs</th>\n",
       "      <th>menu</th>\n",
       "      <th>...</th>\n",
       "      <th>question</th>\n",
       "      <th>object</th>\n",
       "      <th>timeLimit</th>\n",
       "      <th>questions</th>\n",
       "      <th>filename</th>\n",
       "      <th>experimenter</th>\n",
       "      <th>I felt creative while I was selecting commands.</th>\n",
       "      <th>I would like to use that command selection technique while doing a creative task like drawing or writing a story.</th>\n",
       "      <th>felt</th>\n",
       "      <th>use</th>\n",
       "    </tr>\n",
       "  </thead>\n",
       "  <tbody>\n",
       "    <tr>\n",
       "      <th>33</th>\n",
       "      <td>1</td>\n",
       "      <td>{\"git_commit\":\"0010ac92f48025bd22d773a1f482af6...</td>\n",
       "      <td>[\"ProgressBar\",\"DevTools\"]</td>\n",
       "      <td>{\"showInProduction\":false}</td>\n",
       "      <td>[4]</td>\n",
       "      <td>0</td>\n",
       "      <td>Questionnaire</td>\n",
       "      <td>NaN</td>\n",
       "      <td>[{'type': 'START', 'timestamp': 1675111278196}...</td>\n",
       "      <td>KeyboardShortcutsWithCheatsheet</td>\n",
       "      <td>...</td>\n",
       "      <td>NaN</td>\n",
       "      <td>NaN</td>\n",
       "      <td>NaN</td>\n",
       "      <td>[\"I felt creative while I was selecting comman...</td>\n",
       "      <td>NaN</td>\n",
       "      <td>NaN</td>\n",
       "      <td>8</td>\n",
       "      <td>77</td>\n",
       "      <td>8</td>\n",
       "      <td>77</td>\n",
       "    </tr>\n",
       "    <tr>\n",
       "      <th>67</th>\n",
       "      <td>1</td>\n",
       "      <td>{\"git_commit\":\"0010ac92f48025bd22d773a1f482af6...</td>\n",
       "      <td>[\"ProgressBar\",\"DevTools\"]</td>\n",
       "      <td>{\"showInProduction\":false}</td>\n",
       "      <td>[4]</td>\n",
       "      <td>0</td>\n",
       "      <td>Questionnaire</td>\n",
       "      <td>NaN</td>\n",
       "      <td>[{'type': 'START', 'timestamp': 1675111808635}...</td>\n",
       "      <td>MarkingMenu</td>\n",
       "      <td>...</td>\n",
       "      <td>NaN</td>\n",
       "      <td>NaN</td>\n",
       "      <td>NaN</td>\n",
       "      <td>[\"I felt creative while I was selecting comman...</td>\n",
       "      <td>NaN</td>\n",
       "      <td>NaN</td>\n",
       "      <td>45</td>\n",
       "      <td>55</td>\n",
       "      <td>45</td>\n",
       "      <td>55</td>\n",
       "    </tr>\n",
       "    <tr>\n",
       "      <th>101</th>\n",
       "      <td>1</td>\n",
       "      <td>{\"git_commit\":\"0010ac92f48025bd22d773a1f482af6...</td>\n",
       "      <td>[\"ProgressBar\",\"DevTools\"]</td>\n",
       "      <td>{\"showInProduction\":false}</td>\n",
       "      <td>[4]</td>\n",
       "      <td>0</td>\n",
       "      <td>Questionnaire</td>\n",
       "      <td>NaN</td>\n",
       "      <td>[{'type': 'START', 'timestamp': 1675112181930}...</td>\n",
       "      <td>ToolPalette</td>\n",
       "      <td>...</td>\n",
       "      <td>NaN</td>\n",
       "      <td>NaN</td>\n",
       "      <td>NaN</td>\n",
       "      <td>[\"I felt creative while I was selecting comman...</td>\n",
       "      <td>NaN</td>\n",
       "      <td>NaN</td>\n",
       "      <td>25</td>\n",
       "      <td>0</td>\n",
       "      <td>25</td>\n",
       "      <td>0</td>\n",
       "    </tr>\n",
       "    <tr>\n",
       "      <th>138</th>\n",
       "      <td>2</td>\n",
       "      <td>{\"git_commit\":\"3f9b2cc710a4b9cb4620695eaf653e7...</td>\n",
       "      <td>[\"ProgressBar\",\"DevTools\"]</td>\n",
       "      <td>{\"showInProduction\":true}</td>\n",
       "      <td>[4]</td>\n",
       "      <td>1</td>\n",
       "      <td>Questionnaire</td>\n",
       "      <td>NaN</td>\n",
       "      <td>[{'type': 'START', 'timestamp': 1675107524570}...</td>\n",
       "      <td>ToolPalette</td>\n",
       "      <td>...</td>\n",
       "      <td>NaN</td>\n",
       "      <td>NaN</td>\n",
       "      <td>NaN</td>\n",
       "      <td>[\"I felt creative while I was selecting comman...</td>\n",
       "      <td>NaN</td>\n",
       "      <td>NaN</td>\n",
       "      <td>30</td>\n",
       "      <td>47</td>\n",
       "      <td>30</td>\n",
       "      <td>47</td>\n",
       "    </tr>\n",
       "    <tr>\n",
       "      <th>172</th>\n",
       "      <td>2</td>\n",
       "      <td>{\"git_commit\":\"3f9b2cc710a4b9cb4620695eaf653e7...</td>\n",
       "      <td>[\"ProgressBar\",\"DevTools\"]</td>\n",
       "      <td>{\"showInProduction\":true}</td>\n",
       "      <td>[4]</td>\n",
       "      <td>1</td>\n",
       "      <td>Questionnaire</td>\n",
       "      <td>NaN</td>\n",
       "      <td>[{'type': 'START', 'timestamp': 1675107779810}...</td>\n",
       "      <td>MarkingMenu</td>\n",
       "      <td>...</td>\n",
       "      <td>NaN</td>\n",
       "      <td>NaN</td>\n",
       "      <td>NaN</td>\n",
       "      <td>[\"I felt creative while I was selecting comman...</td>\n",
       "      <td>NaN</td>\n",
       "      <td>NaN</td>\n",
       "      <td>35</td>\n",
       "      <td>60</td>\n",
       "      <td>35</td>\n",
       "      <td>60</td>\n",
       "    </tr>\n",
       "    <tr>\n",
       "      <th>206</th>\n",
       "      <td>2</td>\n",
       "      <td>{\"git_commit\":\"3f9b2cc710a4b9cb4620695eaf653e7...</td>\n",
       "      <td>[\"ProgressBar\",\"DevTools\"]</td>\n",
       "      <td>{\"showInProduction\":true}</td>\n",
       "      <td>[4]</td>\n",
       "      <td>1</td>\n",
       "      <td>Questionnaire</td>\n",
       "      <td>NaN</td>\n",
       "      <td>[{'type': 'START', 'timestamp': 1675107947549}...</td>\n",
       "      <td>KeyboardShortcutsWithCheatsheet</td>\n",
       "      <td>...</td>\n",
       "      <td>NaN</td>\n",
       "      <td>NaN</td>\n",
       "      <td>NaN</td>\n",
       "      <td>[\"I felt creative while I was selecting comman...</td>\n",
       "      <td>NaN</td>\n",
       "      <td>NaN</td>\n",
       "      <td>19</td>\n",
       "      <td>25</td>\n",
       "      <td>19</td>\n",
       "      <td>25</td>\n",
       "    </tr>\n",
       "    <tr>\n",
       "      <th>243</th>\n",
       "      <td>3</td>\n",
       "      <td>{\"git_commit\":\"0010ac92f48025bd22d773a1f482af6...</td>\n",
       "      <td>[\"ProgressBar\",\"DevTools\"]</td>\n",
       "      <td>{\"showInProduction\":false}</td>\n",
       "      <td>[4]</td>\n",
       "      <td>2</td>\n",
       "      <td>Questionnaire</td>\n",
       "      <td>NaN</td>\n",
       "      <td>[{'type': 'START', 'timestamp': 1675122594372}...</td>\n",
       "      <td>ToolPalette</td>\n",
       "      <td>...</td>\n",
       "      <td>NaN</td>\n",
       "      <td>NaN</td>\n",
       "      <td>NaN</td>\n",
       "      <td>[\"I felt creative while I was selecting comman...</td>\n",
       "      <td>NaN</td>\n",
       "      <td>NaN</td>\n",
       "      <td>0</td>\n",
       "      <td>25</td>\n",
       "      <td>0</td>\n",
       "      <td>25</td>\n",
       "    </tr>\n",
       "    <tr>\n",
       "      <th>277</th>\n",
       "      <td>3</td>\n",
       "      <td>{\"git_commit\":\"0010ac92f48025bd22d773a1f482af6...</td>\n",
       "      <td>[\"ProgressBar\",\"DevTools\"]</td>\n",
       "      <td>{\"showInProduction\":false}</td>\n",
       "      <td>[4]</td>\n",
       "      <td>2</td>\n",
       "      <td>Questionnaire</td>\n",
       "      <td>NaN</td>\n",
       "      <td>[{'type': 'START', 'timestamp': 1675122943184}...</td>\n",
       "      <td>KeyboardShortcutsWithCheatsheet</td>\n",
       "      <td>...</td>\n",
       "      <td>NaN</td>\n",
       "      <td>NaN</td>\n",
       "      <td>NaN</td>\n",
       "      <td>[\"I felt creative while I was selecting comman...</td>\n",
       "      <td>NaN</td>\n",
       "      <td>NaN</td>\n",
       "      <td>4</td>\n",
       "      <td>10</td>\n",
       "      <td>4</td>\n",
       "      <td>10</td>\n",
       "    </tr>\n",
       "    <tr>\n",
       "      <th>311</th>\n",
       "      <td>3</td>\n",
       "      <td>{\"git_commit\":\"0010ac92f48025bd22d773a1f482af6...</td>\n",
       "      <td>[\"ProgressBar\",\"DevTools\"]</td>\n",
       "      <td>{\"showInProduction\":false}</td>\n",
       "      <td>[4]</td>\n",
       "      <td>2</td>\n",
       "      <td>Questionnaire</td>\n",
       "      <td>NaN</td>\n",
       "      <td>[{'type': 'START', 'timestamp': 1675123441446}...</td>\n",
       "      <td>MarkingMenu</td>\n",
       "      <td>...</td>\n",
       "      <td>NaN</td>\n",
       "      <td>NaN</td>\n",
       "      <td>NaN</td>\n",
       "      <td>[\"I felt creative while I was selecting comman...</td>\n",
       "      <td>NaN</td>\n",
       "      <td>NaN</td>\n",
       "      <td>34</td>\n",
       "      <td>0</td>\n",
       "      <td>34</td>\n",
       "      <td>0</td>\n",
       "    </tr>\n",
       "  </tbody>\n",
       "</table>\n",
       "<p>9 rows × 22 columns</p>\n",
       "</div>"
      ],
      "text/plain": [
       "    participant_id                                           metadata  \\\n",
       "33               1  {\"git_commit\":\"0010ac92f48025bd22d773a1f482af6...   \n",
       "67               1  {\"git_commit\":\"0010ac92f48025bd22d773a1f482af6...   \n",
       "101              1  {\"git_commit\":\"0010ac92f48025bd22d773a1f482af6...   \n",
       "138              2  {\"git_commit\":\"3f9b2cc710a4b9cb4620695eaf653e7...   \n",
       "172              2  {\"git_commit\":\"3f9b2cc710a4b9cb4620695eaf653e7...   \n",
       "206              2  {\"git_commit\":\"3f9b2cc710a4b9cb4620695eaf653e7...   \n",
       "243              3  {\"git_commit\":\"0010ac92f48025bd22d773a1f482af6...   \n",
       "277              3  {\"git_commit\":\"0010ac92f48025bd22d773a1f482af6...   \n",
       "311              3  {\"git_commit\":\"0010ac92f48025bd22d773a1f482af6...   \n",
       "\n",
       "                          tasks                    DevTools __INDEX__  \\\n",
       "33   [\"ProgressBar\",\"DevTools\"]  {\"showInProduction\":false}       [4]   \n",
       "67   [\"ProgressBar\",\"DevTools\"]  {\"showInProduction\":false}       [4]   \n",
       "101  [\"ProgressBar\",\"DevTools\"]  {\"showInProduction\":false}       [4]   \n",
       "138  [\"ProgressBar\",\"DevTools\"]   {\"showInProduction\":true}       [4]   \n",
       "172  [\"ProgressBar\",\"DevTools\"]   {\"showInProduction\":true}       [4]   \n",
       "206  [\"ProgressBar\",\"DevTools\"]   {\"showInProduction\":true}       [4]   \n",
       "243  [\"ProgressBar\",\"DevTools\"]  {\"showInProduction\":false}       [4]   \n",
       "277  [\"ProgressBar\",\"DevTools\"]  {\"showInProduction\":false}       [4]   \n",
       "311  [\"ProgressBar\",\"DevTools\"]  {\"showInProduction\":false}       [4]   \n",
       "\n",
       "     participant_number           task content  \\\n",
       "33                    0  Questionnaire     NaN   \n",
       "67                    0  Questionnaire     NaN   \n",
       "101                   0  Questionnaire     NaN   \n",
       "138                   1  Questionnaire     NaN   \n",
       "172                   1  Questionnaire     NaN   \n",
       "206                   1  Questionnaire     NaN   \n",
       "243                   2  Questionnaire     NaN   \n",
       "277                   2  Questionnaire     NaN   \n",
       "311                   2  Questionnaire     NaN   \n",
       "\n",
       "                                                  logs  \\\n",
       "33   [{'type': 'START', 'timestamp': 1675111278196}...   \n",
       "67   [{'type': 'START', 'timestamp': 1675111808635}...   \n",
       "101  [{'type': 'START', 'timestamp': 1675112181930}...   \n",
       "138  [{'type': 'START', 'timestamp': 1675107524570}...   \n",
       "172  [{'type': 'START', 'timestamp': 1675107779810}...   \n",
       "206  [{'type': 'START', 'timestamp': 1675107947549}...   \n",
       "243  [{'type': 'START', 'timestamp': 1675122594372}...   \n",
       "277  [{'type': 'START', 'timestamp': 1675122943184}...   \n",
       "311  [{'type': 'START', 'timestamp': 1675123441446}...   \n",
       "\n",
       "                                menu  ... question object timeLimit  \\\n",
       "33   KeyboardShortcutsWithCheatsheet  ...      NaN    NaN       NaN   \n",
       "67                       MarkingMenu  ...      NaN    NaN       NaN   \n",
       "101                      ToolPalette  ...      NaN    NaN       NaN   \n",
       "138                      ToolPalette  ...      NaN    NaN       NaN   \n",
       "172                      MarkingMenu  ...      NaN    NaN       NaN   \n",
       "206  KeyboardShortcutsWithCheatsheet  ...      NaN    NaN       NaN   \n",
       "243                      ToolPalette  ...      NaN    NaN       NaN   \n",
       "277  KeyboardShortcutsWithCheatsheet  ...      NaN    NaN       NaN   \n",
       "311                      MarkingMenu  ...      NaN    NaN       NaN   \n",
       "\n",
       "                                             questions  filename experimenter  \\\n",
       "33   [\"I felt creative while I was selecting comman...       NaN          NaN   \n",
       "67   [\"I felt creative while I was selecting comman...       NaN          NaN   \n",
       "101  [\"I felt creative while I was selecting comman...       NaN          NaN   \n",
       "138  [\"I felt creative while I was selecting comman...       NaN          NaN   \n",
       "172  [\"I felt creative while I was selecting comman...       NaN          NaN   \n",
       "206  [\"I felt creative while I was selecting comman...       NaN          NaN   \n",
       "243  [\"I felt creative while I was selecting comman...       NaN          NaN   \n",
       "277  [\"I felt creative while I was selecting comman...       NaN          NaN   \n",
       "311  [\"I felt creative while I was selecting comman...       NaN          NaN   \n",
       "\n",
       "    I felt creative while I was selecting commands.  \\\n",
       "33                                                8   \n",
       "67                                               45   \n",
       "101                                              25   \n",
       "138                                              30   \n",
       "172                                              35   \n",
       "206                                              19   \n",
       "243                                               0   \n",
       "277                                               4   \n",
       "311                                              34   \n",
       "\n",
       "    I would like to use that command selection technique while doing a creative task like drawing or writing a story.  \\\n",
       "33                                                  77                                                                  \n",
       "67                                                  55                                                                  \n",
       "101                                                  0                                                                  \n",
       "138                                                 47                                                                  \n",
       "172                                                 60                                                                  \n",
       "206                                                 25                                                                  \n",
       "243                                                 25                                                                  \n",
       "277                                                 10                                                                  \n",
       "311                                                  0                                                                  \n",
       "\n",
       "     felt  use  \n",
       "33      8   77  \n",
       "67     45   55  \n",
       "101    25    0  \n",
       "138    30   47  \n",
       "172    35   60  \n",
       "206    19   25  \n",
       "243     0   25  \n",
       "277     4   10  \n",
       "311    34    0  \n",
       "\n",
       "[9 rows x 22 columns]"
      ]
     },
     "execution_count": 126,
     "metadata": {},
     "output_type": "execute_result"
    }
   ],
   "source": [
    "questionnaire"
   ]
  },
  {
   "cell_type": "markdown",
   "metadata": {},
   "source": [
    "## I felt creative while I was selecting commands."
   ]
  },
  {
   "cell_type": "code",
   "execution_count": 85,
   "metadata": {},
   "outputs": [
    {
     "data": {
      "text/plain": [
       "<seaborn.axisgrid.FacetGrid at 0x7fccc26b8700>"
      ]
     },
     "execution_count": 85,
     "metadata": {},
     "output_type": "execute_result"
    },
    {
     "data": {
      "image/png": "[encoded data removed]",
      "text/plain": [
       "<Figure size 436.5x360 with 1 Axes>"
      ]
     },
     "metadata": {
      "needs_background": "light"
     },
     "output_type": "display_data"
    }
   ],
   "source": [
    "sns.catplot(data=questionnaire, kind=\"bar\", x='menu', y='I felt creative while I was selecting commands.', hue='participant_id')"
   ]
  },
  {
   "cell_type": "code",
   "execution_count": 86,
   "metadata": {},
   "outputs": [
    {
     "data": {
      "text/plain": [
       "<seaborn.axisgrid.FacetGrid at 0x7fcca075fc10>"
      ]
     },
     "execution_count": 86,
     "metadata": {},
     "output_type": "execute_result"
    },
    {
     "data": {
      "image/png": "[encoded data removed]",
      "text/plain": [
       "<Figure size 570.25x360 with 1 Axes>"
      ]
     },
     "metadata": {
      "needs_background": "light"
     },
     "output_type": "display_data"
    }
   ],
   "source": [
    "sns.catplot(data=questionnaire, kind=\"bar\", x='participant_id', y='I felt creative while I was selecting commands.', hue='menu')"
   ]
  },
  {
   "cell_type": "markdown",
   "metadata": {},
   "source": [
    "## I would like to use that command selection technique while doing a creative task like drawing or writing a story."
   ]
  },
  {
   "cell_type": "code",
   "execution_count": 89,
   "metadata": {},
   "outputs": [
    {
     "data": {
      "text/plain": [
       "<seaborn.axisgrid.FacetGrid at 0x7fcce0e07430>"
      ]
     },
     "execution_count": 89,
     "metadata": {},
     "output_type": "execute_result"
    },
    {
     "data": {
      "image/png": "[encoded data removed]",
      "text/plain": [
       "<Figure size 570.25x360 with 1 Axes>"
      ]
     },
     "metadata": {
      "needs_background": "light"
     },
     "output_type": "display_data"
    }
   ],
   "source": [
    "sns.catplot(data=questionnaire, kind=\"bar\", x='participant_id', y='use', hue='menu')"
   ]
  },
  {
   "cell_type": "code",
   "execution_count": 90,
   "metadata": {},
   "outputs": [
    {
     "data": {
      "text/plain": [
       "<seaborn.axisgrid.FacetGrid at 0x7fcc709327c0>"
      ]
     },
     "execution_count": 90,
     "metadata": {},
     "output_type": "execute_result"
    },
    {
     "data": {
      "image/png": "[encoded data removed]",
      "text/plain": [
       "<Figure size 436.5x360 with 1 Axes>"
      ]
     },
     "metadata": {
      "needs_background": "light"
     },
     "output_type": "display_data"
    }
   ],
   "source": [
    "sns.catplot(data=questionnaire, kind=\"bar\", x='menu', y='use', hue='participant_id')"
   ]
  },
  {
   "cell_type": "code",
   "execution_count": null,
   "metadata": {},
   "outputs": [],
   "source": []
  }
 ],
 "metadata": {
  "kernelspec": {
   "display_name": "Python 3",
   "language": "python",
   "name": "python3"
  },
  "language_info": {
   "codemirror_mode": {
    "name": "ipython",
    "version": 3
   },
   "file_extension": ".py",
   "mimetype": "text/x-python",
   "name": "python",
   "nbconvert_exporter": "python",
   "pygments_lexer": "ipython3",
   "version": "3.8.3"
  }
 },
 "nbformat": 4,
 "nbformat_minor": 5
}
